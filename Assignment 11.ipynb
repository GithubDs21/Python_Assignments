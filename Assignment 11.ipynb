{
 "cells": [
  {
   "cell_type": "code",
   "execution_count": null,
   "id": "73f40690",
   "metadata": {},
   "outputs": [],
   "source": [
    "1. What is the role of the 'else' block in a try-except statement? Provide an example\n",
    "scenario where it would be useful.\n",
    "\n",
    "    The else block in a try-except statement is optional and provides a way to specify \n",
    "    a block of code that should be executed only if no exceptions occur in the corresponding try block. \n",
    "    In other words, the else block will run when the try block executes successfully without raising any exceptions."
   ]
  },
  {
   "cell_type": "code",
   "execution_count": 1,
   "id": "17945918",
   "metadata": {},
   "outputs": [
    {
     "name": "stdout",
     "output_type": "stream",
     "text": [
      "Enter the first number: 25\n",
      "Enter the second number: 10\n",
      "Division result: 2.5\n"
     ]
    }
   ],
   "source": [
    "def divide_numbers(a, b):\n",
    "    try:\n",
    "        result = a / b\n",
    "    except ZeroDivisionError:\n",
    "        print(\"Error: Division by zero is not allowed.\")\n",
    "    else:\n",
    "        print(\"Division result:\", result)\n",
    "\n",
    "# Test case\n",
    "try:\n",
    "    num1 = int(input(\"Enter the first number: \"))\n",
    "    num2 = int(input(\"Enter the second number: \"))\n",
    "    divide_numbers(num1, num2)\n",
    "except ValueError:\n",
    "    print(\"Error: Invalid input. Please enter valid integers.\")"
   ]
  },
  {
   "cell_type": "code",
   "execution_count": null,
   "id": "1e39b11a",
   "metadata": {},
   "outputs": [],
   "source": []
  },
  {
   "cell_type": "code",
   "execution_count": null,
   "id": "fd841306",
   "metadata": {},
   "outputs": [],
   "source": [
    "2. Can a try-except block be nested inside another try-except block? Explain with an\n",
    "example.\n",
    "\n",
    "    Yes, a try-except block can be nested inside another try-except block in Python. \n",
    "    This is called nested exception handling, and \n",
    "    it allows you to handle exceptions at different levels of code with more fine-grained control."
   ]
  },
  {
   "cell_type": "code",
   "execution_count": 2,
   "id": "104dce60",
   "metadata": {},
   "outputs": [
    {
     "name": "stdout",
     "output_type": "stream",
     "text": [
      "Enter the first number: 50\n",
      "Enter the second number: 12\n",
      "Division result: 4.166666666666667\n"
     ]
    }
   ],
   "source": [
    "def divide_numbers(a, b):\n",
    "    try:\n",
    "        result = a / b\n",
    "        print(\"Division result:\", result)\n",
    "\n",
    "    except ZeroDivisionError:\n",
    "        print(\"Error (inner): Division by zero is not allowed.\")\n",
    "\n",
    "def perform_calculation(num1, num2):\n",
    "    try:\n",
    "        divide_numbers(num1, num2)\n",
    "\n",
    "    except ValueError:\n",
    "        print(\"Error (outer): Invalid input. Please enter valid integers.\")\n",
    "\n",
    "# Test case\n",
    "try:\n",
    "    num1 = int(input(\"Enter the first number: \"))\n",
    "    num2 = int(input(\"Enter the second number: \"))\n",
    "    perform_calculation(num1, num2)\n",
    "\n",
    "except ValueError:\n",
    "    print(\"Error (main): Invalid input. Please enter valid integers.\")\n"
   ]
  },
  {
   "cell_type": "code",
   "execution_count": null,
   "id": "036f5500",
   "metadata": {},
   "outputs": [],
   "source": []
  },
  {
   "cell_type": "code",
   "execution_count": null,
   "id": "16e7c1f4",
   "metadata": {},
   "outputs": [],
   "source": [
    "3. How can you create a custom exception class in Python? Provide an example that\n",
    "demonstrates its usage.\n"
   ]
  },
  {
   "cell_type": "code",
   "execution_count": 3,
   "id": "d69a5796",
   "metadata": {},
   "outputs": [
    {
     "name": "stdout",
     "output_type": "stream",
     "text": [
      "Enter the first number: 10\n",
      "Enter the second number: 5\n",
      "Division result: 2.0\n"
     ]
    }
   ],
   "source": [
    "# Custom exception class\n",
    "class CustomError(Exception):\n",
    "    def __init__(self, message):\n",
    "        self.message = message\n",
    "        super().__init__(self.message)\n",
    "\n",
    "# Function that raises the custom exception\n",
    "def divide_numbers(a, b):\n",
    "    if b == 0:\n",
    "        raise CustomError(\"Division by zero is not allowed.\")\n",
    "    return a / b\n",
    "\n",
    "# Test case\n",
    "try:\n",
    "    num1 = int(input(\"Enter the first number: \"))\n",
    "    num2 = int(input(\"Enter the second number: \"))\n",
    "    result = divide_numbers(num1, num2)\n",
    "    print(\"Division result:\", result)\n",
    "\n",
    "except ValueError:\n",
    "    print(\"Error: Invalid input. Please enter valid integers.\")\n",
    "\n",
    "except CustomError as ce:\n",
    "    print(\"Error:\", ce)\n"
   ]
  },
  {
   "cell_type": "code",
   "execution_count": null,
   "id": "2fe7fc26",
   "metadata": {},
   "outputs": [],
   "source": []
  },
  {
   "cell_type": "code",
   "execution_count": null,
   "id": "c6f49b07",
   "metadata": {},
   "outputs": [],
   "source": [
    "4. What are some common exceptions that are built-in to Python?\n",
    "\n",
    "1) Syntax error\n",
    "2) indentation error\n",
    "3) Name error\n",
    "4) Type error\n",
    "5) zero division eror\n",
    "6) value error\n",
    "7) index error\n",
    "8) key error\n",
    "9) file not found error\n",
    "10)import error\n",
    "11)Attribute error\n",
    "12) IO error\n",
    "13) runtime error.\n"
   ]
  },
  {
   "cell_type": "code",
   "execution_count": null,
   "id": "27f64570",
   "metadata": {},
   "outputs": [],
   "source": []
  },
  {
   "cell_type": "code",
   "execution_count": null,
   "id": "674a460c",
   "metadata": {},
   "outputs": [],
   "source": [
    "5. What is logging in Python, and why is it important in software development?\n",
    "    Logging in Python refers to the process of recording messages or\n",
    "    events from a software application to a log file or other output destinations.\n",
    "    The logging module in Python provides a flexible and standardized way to implement logging functionality in Python programs.\n",
    "\n",
    "    Debugging and Troubleshooting ,Monitoring and Maintenance ,Error Reporting ,Security Auditing,Performance Optimization\n",
    "    Historical Data and Analysis,Feedback and Monitoring User Behavio"
   ]
  },
  {
   "cell_type": "code",
   "execution_count": null,
   "id": "ccc89d0d",
   "metadata": {},
   "outputs": [],
   "source": []
  },
  {
   "cell_type": "code",
   "execution_count": null,
   "id": "8917af02",
   "metadata": {},
   "outputs": [],
   "source": [
    "6. Explain the purpose of log levels in Python logging and provide examples of when\n",
    "each log level would be appropriate.\n",
    "\n",
    "DEBUG:   Detailed information, typically useful for debugging and diagnosing issues during development. \n",
    "         These messages are usually not included in the production logs\n",
    "        \n",
    "INFO:    General information about the application's operations, highlighting \n",
    "         significant events that may be helpful for understanding the program's behavior.  \n",
    "        \n",
    "WARNING: Indications of potential issues or non-critical problems. These messages signify \n",
    "         that something unexpected happened or that the program encountered a situation that might require attention \n",
    "        \n",
    "ERROR:   Indicates errors that are more severe than warnings and typically require immediate attention.\n",
    "         These messages indicate that something has gone wrong, but the program can still continue to run.\n",
    "        \n",
    "CRITICAL: Indicates a severe error or system failure that prevents the program from continuing normal execution. \n",
    "          These messages are typically used for critical issues that require immediate action        "
   ]
  },
  {
   "cell_type": "code",
   "execution_count": null,
   "id": "268819b3",
   "metadata": {},
   "outputs": [],
   "source": []
  },
  {
   "cell_type": "code",
   "execution_count": null,
   "id": "feec677d",
   "metadata": {},
   "outputs": [],
   "source": [
    "7. What are log formatters in Python logging, and how can you customise the log\n",
    "message format using formatters?\n",
    "\n",
    "        In Python logging, log formatters are used to define the structure and content of log messages before \n",
    "        they are output to the log destinations, such as files, streams, or external logging services. \n",
    "        The logging module provides the Formatter class to customize the log message format according to the \n",
    "        developer's preferences and requirements.\n",
    "\n",
    "        Log formatters use placeholders and formatting codes to specify how log records should be \n",
    "        represented in the log output. These placeholders are replaced with actual values from the log records when \n",
    "        the log message is formatted.\n",
    "        \n",
    "The commonly used placeholders in log formatters are :\n",
    "        %asctime: The human-readable timestamp of when the log record was created.\n",
    "        %levelname: The log level name (e.g., DEBUG, INFO, WARNING, ERROR, CRITICAL).\n",
    "        %message: The log message itself.\n",
    "        %name: The logger name.\n",
    "        %filename: The name of the source file where the log statement was invoked.\n",
    "        %funcName: The name of the function where the log statement was invoked.\n",
    "        %lineno: The line number where the log statement was invoked.\n"
   ]
  },
  {
   "cell_type": "code",
   "execution_count": null,
   "id": "da107c5b",
   "metadata": {},
   "outputs": [],
   "source": []
  },
  {
   "cell_type": "code",
   "execution_count": null,
   "id": "06c73f5c",
   "metadata": {},
   "outputs": [],
   "source": [
    "8. How can you set up logging to capture log messages from multiple modules or\n",
    "classes in a Python application?\n",
    "\n",
    "    To capture log messages from multiple modules or classes in a Python application, \n",
    "    you can set up a centralized logging configuration that is accessible by all modules and classes throughout the application. \n",
    "    This allows all components of the application to use the same logging configuration and log messages to the same log handlers. \n",
    "    The logging module in Python provides a flexible way to achieve this.\n",
    "    \n",
    "   1) Create a Centralized Logger:\n",
    "   2) Configure Log Handlers and Formatters: \n"
   ]
  },
  {
   "cell_type": "code",
   "execution_count": null,
   "id": "c949e19f",
   "metadata": {},
   "outputs": [],
   "source": []
  },
  {
   "cell_type": "code",
   "execution_count": null,
   "id": "ac09441a",
   "metadata": {},
   "outputs": [],
   "source": [
    "9. What is the difference between the logging and print statements in Python? When\n",
    "should you use logging over print statements in a real-world application?\n",
    "\n",
    "Purpose:\n",
    "   print statement: It is mainly used for simple debugging and displaying information during development.\n",
    "    It writes output to the standard output (usually the console) and \n",
    "    is not designed for production-level logging or error handling.\n",
    "   logging: The logging module is designed specifically for logging and \n",
    "    ecording events, messages, and errors in a more organized and structured way.\n",
    "    It provides powerful features for customizing log formats, handling log levels, \n",
    "    and sending log output to different destinations like files, remote servers, or external logging services\n",
    "\n",
    "Use Cases:\n",
    "   print statement: It is suitable for quick and temporary debugging during development.\n",
    "    When developers need to quickly check variable values, flow, or some specific information,\n",
    "    print statements can be helpful.\n",
    "   logging: It is recommended for logging messages and events in a real-world application, especially \n",
    "    in production environments. Logging provides a systematic approach to record events and issues,\n",
    "    making it easier to troubleshoot and diagnose problems without cluttering the user interface or\n",
    "    console with unnecessary information. \n",
    "    \n",
    "When to Use Logging over Print Statements in a Real-World Application :    \n",
    "Control and Flexibility\n",
    "Production Readiness\n",
    "Error Handling and Reporting\n",
    "Performance Considerations\n",
    "Debugging in Production\n",
    "Security Auditing:\n"
   ]
  },
  {
   "cell_type": "code",
   "execution_count": null,
   "id": "40a2702b",
   "metadata": {},
   "outputs": [],
   "source": []
  },
  {
   "cell_type": "code",
   "execution_count": null,
   "id": "307fa389",
   "metadata": {},
   "outputs": [],
   "source": [
    "10. Write a Python program that logs a message to a file named \"app.log\" with the\n",
    "following requirements:\n",
    "● The log message should be \"Hello, World!\"\n",
    "● The log level should be set to \"INFO.\"\n",
    "● The log file should append new log entries without overwriting previous ones.\n"
   ]
  },
  {
   "cell_type": "code",
   "execution_count": 6,
   "id": "6b4057c7",
   "metadata": {},
   "outputs": [],
   "source": [
    "import logging\n",
    "\n",
    "# Create a logger\n",
    "logger = logging.getLogger(\"my_app_logger\")\n",
    "logger.setLevel(logging.INFO)\n",
    "\n",
    "# Create a file handler\n",
    "file_handler = logging.FileHandler(\"app.log\")\n",
    "file_handler.setLevel(logging.INFO)\n",
    "\n",
    "# Create a log formatter\n",
    "log_format = \"%(asctime)s - %(levelname)s - %(message)s\"\n",
    "formatter = logging.Formatter(log_format)\n",
    "\n",
    "# Set the formatter for the file handler\n",
    "file_handler.setFormatter(formatter)\n",
    "\n",
    "# Add the file handler to the logger\n",
    "logger.addHandler(file_handler)\n",
    "\n",
    "# Log the message\n",
    "logger.info(\"Hello, World!\")"
   ]
  },
  {
   "cell_type": "code",
   "execution_count": null,
   "id": "7e9d9104",
   "metadata": {},
   "outputs": [],
   "source": []
  },
  {
   "cell_type": "code",
   "execution_count": null,
   "id": "905a1453",
   "metadata": {},
   "outputs": [],
   "source": [
    "11. Create a Python program that logs an error message to the console and a file named\n",
    "\"errors.log\" if an exception occurs during the program's execution. The error\n",
    "message should include the exception type and a timestamp"
   ]
  },
  {
   "cell_type": "code",
   "execution_count": 4,
   "id": "60a94a45",
   "metadata": {},
   "outputs": [
    {
     "name": "stderr",
     "output_type": "stream",
     "text": [
      "2023-07-30 17:18:29,789 - ERROR - Exception occurred: ZeroDivisionError - division by zero\n"
     ]
    }
   ],
   "source": [
    "import logging\n",
    "import datetime\n",
    "\n",
    "def main():\n",
    "    # Create a logger\n",
    "    logger = logging.getLogger(\"my_error_logger\")\n",
    "    logger.setLevel(logging.ERROR)\n",
    "\n",
    "    # Create a console handler\n",
    "    console_handler = logging.StreamHandler()\n",
    "    console_handler.setLevel(logging.ERROR)\n",
    "\n",
    "    # Create a file handler\n",
    "    file_handler = logging.FileHandler(\"errors.log\")\n",
    "    file_handler.setLevel(logging.ERROR)\n",
    "\n",
    "    # Create a log formatter\n",
    "    log_format = \"%(asctime)s - %(levelname)s - %(message)s\"\n",
    "    formatter = logging.Formatter(log_format)\n",
    "\n",
    "    # Set the formatter for both handlers\n",
    "    console_handler.setFormatter(formatter)\n",
    "    file_handler.setFormatter(formatter)\n",
    "\n",
    "    # Add the handlers to the logger\n",
    "    logger.addHandler(console_handler)\n",
    "    logger.addHandler(file_handler)\n",
    "\n",
    "    try:\n",
    "        # Your program logic here\n",
    "        result = 10 / 0  # This will raise a ZeroDivisionError\n",
    "        print(result)   # This line won't be executed due to the exception\n",
    "\n",
    "    except Exception as e:\n",
    "        # Log the error message with the exception type and timestamp\n",
    "        error_message = f\"Exception occurred: {type(e).__name__} - {str(e)}\"\n",
    "        logger.error(error_message)\n",
    "\n",
    "if __name__ == \"__main__\":\n",
    "    main()\n"
   ]
  },
  {
   "cell_type": "code",
   "execution_count": null,
   "id": "04f2da34",
   "metadata": {},
   "outputs": [],
   "source": []
  }
 ],
 "metadata": {
  "kernelspec": {
   "display_name": "Python 3 (ipykernel)",
   "language": "python",
   "name": "python3"
  },
  "language_info": {
   "codemirror_mode": {
    "name": "ipython",
    "version": 3
   },
   "file_extension": ".py",
   "mimetype": "text/x-python",
   "name": "python",
   "nbconvert_exporter": "python",
   "pygments_lexer": "ipython3",
   "version": "3.10.9"
  },
  "varInspector": {
   "cols": {
    "lenName": 16,
    "lenType": 16,
    "lenVar": 40
   },
   "kernels_config": {
    "python": {
     "delete_cmd_postfix": "",
     "delete_cmd_prefix": "del ",
     "library": "var_list.py",
     "varRefreshCmd": "print(var_dic_list())"
    },
    "r": {
     "delete_cmd_postfix": ") ",
     "delete_cmd_prefix": "rm(",
     "library": "var_list.r",
     "varRefreshCmd": "cat(var_dic_list()) "
    }
   },
   "types_to_exclude": [
    "module",
    "function",
    "builtin_function_or_method",
    "instance",
    "_Feature"
   ],
   "window_display": false
  }
 },
 "nbformat": 4,
 "nbformat_minor": 5
}
